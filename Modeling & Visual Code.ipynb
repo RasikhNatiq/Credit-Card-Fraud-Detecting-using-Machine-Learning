{
 "cells": [
  {
   "cell_type": "markdown",
   "id": "b502ffeb",
   "metadata": {},
   "source": [
    "## Load Libraries "
   ]
  },
  {
   "cell_type": "code",
   "execution_count": 111,
   "id": "1b7f6702",
   "metadata": {},
   "outputs": [],
   "source": [
    "import pandas as pd \n",
    "import numpy as np\n",
    "import matplotlib.pyplot as plt"
   ]
  },
  {
   "cell_type": "markdown",
   "id": "6a6a8f13",
   "metadata": {},
   "source": [
    "## Load Data "
   ]
  },
  {
   "cell_type": "code",
   "execution_count": 112,
   "id": "60a017ed",
   "metadata": {},
   "outputs": [
    {
     "data": {
      "text/html": [
       "<div>\n",
       "<style scoped>\n",
       "    .dataframe tbody tr th:only-of-type {\n",
       "        vertical-align: middle;\n",
       "    }\n",
       "\n",
       "    .dataframe tbody tr th {\n",
       "        vertical-align: top;\n",
       "    }\n",
       "\n",
       "    .dataframe thead th {\n",
       "        text-align: right;\n",
       "    }\n",
       "</style>\n",
       "<table border=\"1\" class=\"dataframe\">\n",
       "  <thead>\n",
       "    <tr style=\"text-align: right;\">\n",
       "      <th></th>\n",
       "      <th>Transaction ID</th>\n",
       "      <th>Date</th>\n",
       "      <th>Time</th>\n",
       "      <th>Type of Card</th>\n",
       "      <th>Entry Mode</th>\n",
       "      <th>Amount</th>\n",
       "      <th>Type of Transaction</th>\n",
       "      <th>Merchant Group</th>\n",
       "      <th>Country of Transaction</th>\n",
       "      <th>Shipping Address</th>\n",
       "      <th>Country of Residence</th>\n",
       "      <th>Gender</th>\n",
       "      <th>Age</th>\n",
       "      <th>Bank</th>\n",
       "      <th>Fraud</th>\n",
       "    </tr>\n",
       "  </thead>\n",
       "  <tbody>\n",
       "    <tr>\n",
       "      <th>0</th>\n",
       "      <td>#2546 884</td>\n",
       "      <td>13-Oct-20</td>\n",
       "      <td>23</td>\n",
       "      <td>MasterCard</td>\n",
       "      <td>Tap</td>\n",
       "      <td>£17</td>\n",
       "      <td>Online</td>\n",
       "      <td>Restaurant</td>\n",
       "      <td>United Kingdom</td>\n",
       "      <td>Russia</td>\n",
       "      <td>United Kingdom</td>\n",
       "      <td>F</td>\n",
       "      <td>36</td>\n",
       "      <td>Barclays</td>\n",
       "      <td>0</td>\n",
       "    </tr>\n",
       "    <tr>\n",
       "      <th>1</th>\n",
       "      <td>#2546 895</td>\n",
       "      <td>14-Oct-20</td>\n",
       "      <td>21</td>\n",
       "      <td>Visa</td>\n",
       "      <td>Tap</td>\n",
       "      <td>£28</td>\n",
       "      <td>Online</td>\n",
       "      <td>Gaming</td>\n",
       "      <td>United Kingdom</td>\n",
       "      <td>United Kingdom</td>\n",
       "      <td>United Kingdom</td>\n",
       "      <td>M</td>\n",
       "      <td>41</td>\n",
       "      <td>RBS</td>\n",
       "      <td>0</td>\n",
       "    </tr>\n",
       "    <tr>\n",
       "      <th>2</th>\n",
       "      <td>#2546 903</td>\n",
       "      <td>13-Oct-20</td>\n",
       "      <td>19</td>\n",
       "      <td>Visa</td>\n",
       "      <td>Tap</td>\n",
       "      <td>£8</td>\n",
       "      <td>Online</td>\n",
       "      <td>Subscription</td>\n",
       "      <td>United Kingdom</td>\n",
       "      <td>United Kingdom</td>\n",
       "      <td>United Kingdom</td>\n",
       "      <td>M</td>\n",
       "      <td>32</td>\n",
       "      <td>Barclays</td>\n",
       "      <td>0</td>\n",
       "    </tr>\n",
       "    <tr>\n",
       "      <th>3</th>\n",
       "      <td>#2546 906</td>\n",
       "      <td>14-Oct-20</td>\n",
       "      <td>9</td>\n",
       "      <td>MasterCard</td>\n",
       "      <td>PIN</td>\n",
       "      <td>£186</td>\n",
       "      <td>ATM</td>\n",
       "      <td>Entertainment</td>\n",
       "      <td>United Kingdom</td>\n",
       "      <td>United Kingdom</td>\n",
       "      <td>United Kingdom</td>\n",
       "      <td>F</td>\n",
       "      <td>65</td>\n",
       "      <td>Barclays</td>\n",
       "      <td>0</td>\n",
       "    </tr>\n",
       "    <tr>\n",
       "      <th>4</th>\n",
       "      <td>#2546 920</td>\n",
       "      <td>13-Oct-20</td>\n",
       "      <td>22</td>\n",
       "      <td>Visa</td>\n",
       "      <td>PIN</td>\n",
       "      <td>£86</td>\n",
       "      <td>Online</td>\n",
       "      <td>Children</td>\n",
       "      <td>United Kingdom</td>\n",
       "      <td>United Kingdom</td>\n",
       "      <td>United Kingdom</td>\n",
       "      <td>F</td>\n",
       "      <td>61</td>\n",
       "      <td>Monzo</td>\n",
       "      <td>0</td>\n",
       "    </tr>\n",
       "  </tbody>\n",
       "</table>\n",
       "</div>"
      ],
      "text/plain": [
       "  Transaction ID       Date  Time Type of Card Entry Mode Amount  \\\n",
       "0      #2546 884  13-Oct-20    23   MasterCard        Tap    £17   \n",
       "1      #2546 895  14-Oct-20    21         Visa        Tap    £28   \n",
       "2      #2546 903  13-Oct-20    19         Visa        Tap     £8   \n",
       "3      #2546 906  14-Oct-20     9   MasterCard        PIN   £186   \n",
       "4      #2546 920  13-Oct-20    22         Visa        PIN    £86   \n",
       "\n",
       "  Type of Transaction Merchant Group Country of Transaction Shipping Address  \\\n",
       "0              Online     Restaurant         United Kingdom           Russia   \n",
       "1              Online         Gaming         United Kingdom   United Kingdom   \n",
       "2              Online   Subscription         United Kingdom   United Kingdom   \n",
       "3                 ATM  Entertainment         United Kingdom   United Kingdom   \n",
       "4              Online       Children         United Kingdom   United Kingdom   \n",
       "\n",
       "  Country of Residence Gender  Age      Bank  Fraud  \n",
       "0       United Kingdom      F   36  Barclays      0  \n",
       "1       United Kingdom      M   41       RBS      0  \n",
       "2       United Kingdom      M   32  Barclays      0  \n",
       "3       United Kingdom      F   65  Barclays      0  \n",
       "4       United Kingdom      F   61     Monzo      0  "
      ]
     },
     "execution_count": 112,
     "metadata": {},
     "output_type": "execute_result"
    }
   ],
   "source": [
    "data = pd.read_csv(\"CreditCardData.csv\")\n",
    "data.head()"
   ]
  },
  {
   "cell_type": "markdown",
   "id": "ae3573ae",
   "metadata": {},
   "source": [
    "## Extract Data "
   ]
  },
  {
   "cell_type": "code",
   "execution_count": 113,
   "id": "5288fd4f",
   "metadata": {},
   "outputs": [
    {
     "data": {
      "text/plain": [
       "(100000, 15)"
      ]
     },
     "execution_count": 113,
     "metadata": {},
     "output_type": "execute_result"
    }
   ],
   "source": [
    "data.shape"
   ]
  },
  {
   "cell_type": "code",
   "execution_count": 114,
   "id": "1e3b972b",
   "metadata": {},
   "outputs": [
    {
     "name": "stdout",
     "output_type": "stream",
     "text": [
      "<class 'pandas.core.frame.DataFrame'>\n",
      "RangeIndex: 100000 entries, 0 to 99999\n",
      "Data columns (total 15 columns):\n",
      " #   Column                  Non-Null Count   Dtype \n",
      "---  ------                  --------------   ----- \n",
      " 0   Transaction ID          100000 non-null  object\n",
      " 1   Date                    100000 non-null  object\n",
      " 2   Time                    100000 non-null  int64 \n",
      " 3   Type of Card            100000 non-null  object\n",
      " 4   Entry Mode              100000 non-null  object\n",
      " 5   Amount                  100000 non-null  object\n",
      " 6   Type of Transaction     100000 non-null  object\n",
      " 7   Merchant Group          100000 non-null  object\n",
      " 8   Country of Transaction  100000 non-null  object\n",
      " 9   Shipping Address        100000 non-null  object\n",
      " 10  Country of Residence    100000 non-null  object\n",
      " 11  Gender                  100000 non-null  object\n",
      " 12  Age                     100000 non-null  int64 \n",
      " 13  Bank                    100000 non-null  object\n",
      " 14  Fraud                   100000 non-null  int64 \n",
      "dtypes: int64(3), object(12)\n",
      "memory usage: 11.4+ MB\n"
     ]
    }
   ],
   "source": [
    "data.info()"
   ]
  },
  {
   "cell_type": "code",
   "execution_count": 115,
   "id": "08418c5c",
   "metadata": {},
   "outputs": [
    {
     "data": {
      "text/plain": [
       "Transaction ID            0\n",
       "Date                      0\n",
       "Time                      0\n",
       "Type of Card              0\n",
       "Entry Mode                0\n",
       "Amount                    0\n",
       "Type of Transaction       0\n",
       "Merchant Group            0\n",
       "Country of Transaction    0\n",
       "Shipping Address          0\n",
       "Country of Residence      0\n",
       "Gender                    0\n",
       "Age                       0\n",
       "Bank                      0\n",
       "Fraud                     0\n",
       "dtype: int64"
      ]
     },
     "execution_count": 115,
     "metadata": {},
     "output_type": "execute_result"
    }
   ],
   "source": [
    "data.isna().sum()"
   ]
  },
  {
   "cell_type": "markdown",
   "id": "4f00de65",
   "metadata": {},
   "source": [
    "## Transform Data "
   ]
  },
  {
   "cell_type": "code",
   "execution_count": 116,
   "id": "7beef2e0",
   "metadata": {},
   "outputs": [
    {
     "data": {
      "text/html": [
       "<div>\n",
       "<style scoped>\n",
       "    .dataframe tbody tr th:only-of-type {\n",
       "        vertical-align: middle;\n",
       "    }\n",
       "\n",
       "    .dataframe tbody tr th {\n",
       "        vertical-align: top;\n",
       "    }\n",
       "\n",
       "    .dataframe thead th {\n",
       "        text-align: right;\n",
       "    }\n",
       "</style>\n",
       "<table border=\"1\" class=\"dataframe\">\n",
       "  <thead>\n",
       "    <tr style=\"text-align: right;\">\n",
       "      <th></th>\n",
       "      <th>Transaction ID</th>\n",
       "      <th>Date</th>\n",
       "      <th>Time</th>\n",
       "      <th>Card_Type</th>\n",
       "      <th>Mode</th>\n",
       "      <th>Amount</th>\n",
       "      <th>Transaction</th>\n",
       "      <th>Merchant_Group</th>\n",
       "      <th>Transaction_Country</th>\n",
       "      <th>Shipping_Address</th>\n",
       "      <th>Residence</th>\n",
       "      <th>Gender</th>\n",
       "      <th>Age</th>\n",
       "      <th>Bank</th>\n",
       "      <th>Fraud</th>\n",
       "    </tr>\n",
       "  </thead>\n",
       "  <tbody>\n",
       "    <tr>\n",
       "      <th>0</th>\n",
       "      <td>#2546 884</td>\n",
       "      <td>13-Oct-20</td>\n",
       "      <td>23</td>\n",
       "      <td>MasterCard</td>\n",
       "      <td>Tap</td>\n",
       "      <td>£17</td>\n",
       "      <td>Online</td>\n",
       "      <td>Restaurant</td>\n",
       "      <td>United Kingdom</td>\n",
       "      <td>Russia</td>\n",
       "      <td>United Kingdom</td>\n",
       "      <td>F</td>\n",
       "      <td>36</td>\n",
       "      <td>Barclays</td>\n",
       "      <td>0</td>\n",
       "    </tr>\n",
       "    <tr>\n",
       "      <th>1</th>\n",
       "      <td>#2546 895</td>\n",
       "      <td>14-Oct-20</td>\n",
       "      <td>21</td>\n",
       "      <td>Visa</td>\n",
       "      <td>Tap</td>\n",
       "      <td>£28</td>\n",
       "      <td>Online</td>\n",
       "      <td>Gaming</td>\n",
       "      <td>United Kingdom</td>\n",
       "      <td>United Kingdom</td>\n",
       "      <td>United Kingdom</td>\n",
       "      <td>M</td>\n",
       "      <td>41</td>\n",
       "      <td>RBS</td>\n",
       "      <td>0</td>\n",
       "    </tr>\n",
       "    <tr>\n",
       "      <th>2</th>\n",
       "      <td>#2546 903</td>\n",
       "      <td>13-Oct-20</td>\n",
       "      <td>19</td>\n",
       "      <td>Visa</td>\n",
       "      <td>Tap</td>\n",
       "      <td>£8</td>\n",
       "      <td>Online</td>\n",
       "      <td>Subscription</td>\n",
       "      <td>United Kingdom</td>\n",
       "      <td>United Kingdom</td>\n",
       "      <td>United Kingdom</td>\n",
       "      <td>M</td>\n",
       "      <td>32</td>\n",
       "      <td>Barclays</td>\n",
       "      <td>0</td>\n",
       "    </tr>\n",
       "    <tr>\n",
       "      <th>3</th>\n",
       "      <td>#2546 906</td>\n",
       "      <td>14-Oct-20</td>\n",
       "      <td>9</td>\n",
       "      <td>MasterCard</td>\n",
       "      <td>PIN</td>\n",
       "      <td>£186</td>\n",
       "      <td>ATM</td>\n",
       "      <td>Entertainment</td>\n",
       "      <td>United Kingdom</td>\n",
       "      <td>United Kingdom</td>\n",
       "      <td>United Kingdom</td>\n",
       "      <td>F</td>\n",
       "      <td>65</td>\n",
       "      <td>Barclays</td>\n",
       "      <td>0</td>\n",
       "    </tr>\n",
       "    <tr>\n",
       "      <th>4</th>\n",
       "      <td>#2546 920</td>\n",
       "      <td>13-Oct-20</td>\n",
       "      <td>22</td>\n",
       "      <td>Visa</td>\n",
       "      <td>PIN</td>\n",
       "      <td>£86</td>\n",
       "      <td>Online</td>\n",
       "      <td>Children</td>\n",
       "      <td>United Kingdom</td>\n",
       "      <td>United Kingdom</td>\n",
       "      <td>United Kingdom</td>\n",
       "      <td>F</td>\n",
       "      <td>61</td>\n",
       "      <td>Monzo</td>\n",
       "      <td>0</td>\n",
       "    </tr>\n",
       "  </tbody>\n",
       "</table>\n",
       "</div>"
      ],
      "text/plain": [
       "  Transaction ID       Date  Time   Card_Type Mode Amount Transaction  \\\n",
       "0      #2546 884  13-Oct-20    23  MasterCard  Tap    £17      Online   \n",
       "1      #2546 895  14-Oct-20    21        Visa  Tap    £28      Online   \n",
       "2      #2546 903  13-Oct-20    19        Visa  Tap     £8      Online   \n",
       "3      #2546 906  14-Oct-20     9  MasterCard  PIN   £186         ATM   \n",
       "4      #2546 920  13-Oct-20    22        Visa  PIN    £86      Online   \n",
       "\n",
       "  Merchant_Group Transaction_Country Shipping_Address       Residence Gender  \\\n",
       "0     Restaurant      United Kingdom           Russia  United Kingdom      F   \n",
       "1         Gaming      United Kingdom   United Kingdom  United Kingdom      M   \n",
       "2   Subscription      United Kingdom   United Kingdom  United Kingdom      M   \n",
       "3  Entertainment      United Kingdom   United Kingdom  United Kingdom      F   \n",
       "4       Children      United Kingdom   United Kingdom  United Kingdom      F   \n",
       "\n",
       "   Age      Bank  Fraud  \n",
       "0   36  Barclays      0  \n",
       "1   41       RBS      0  \n",
       "2   32  Barclays      0  \n",
       "3   65  Barclays      0  \n",
       "4   61     Monzo      0  "
      ]
     },
     "execution_count": 116,
     "metadata": {},
     "output_type": "execute_result"
    }
   ],
   "source": [
    "data = data.rename(columns={\"Type of Card\": \"Card_Type\", \"Entry Mode\": \"Mode\", \"Type of Transaction\": \"Transaction\", \"Merchant Group\": \"Merchant_Group\",\"Country of Transaction\": \"Transaction_Country\", \"Shipping Address\": \"Shipping_Address\", \"Country of Residence\": \"Residence\" })\n",
    "data.head()"
   ]
  },
  {
   "cell_type": "code",
   "execution_count": 117,
   "id": "a515b2de",
   "metadata": {},
   "outputs": [],
   "source": [
    "data = data.drop(data.columns[[0, 1, 2]], axis=1)"
   ]
  },
  {
   "cell_type": "code",
   "execution_count": 118,
   "id": "ea65e001",
   "metadata": {},
   "outputs": [
    {
     "data": {
      "text/plain": [
       "0         17\n",
       "1         28\n",
       "2          8\n",
       "3        186\n",
       "4         86\n",
       "        ... \n",
       "99995     30\n",
       "99996      5\n",
       "99997    375\n",
       "99998     12\n",
       "99999    306\n",
       "Name: Amount, Length: 100000, dtype: object"
      ]
     },
     "execution_count": 118,
     "metadata": {},
     "output_type": "execute_result"
    }
   ],
   "source": [
    "data['Amount'] = data['Amount'].str.replace('£', '')\n",
    "data['Amount']"
   ]
  },
  {
   "cell_type": "code",
   "execution_count": 119,
   "id": "81cde28a",
   "metadata": {},
   "outputs": [],
   "source": [
    "data['Amount'] = data['Amount'].astype('int')"
   ]
  },
  {
   "cell_type": "code",
   "execution_count": 120,
   "id": "5aa28d1b",
   "metadata": {},
   "outputs": [
    {
     "name": "stdout",
     "output_type": "stream",
     "text": [
      "<class 'pandas.core.frame.DataFrame'>\n",
      "RangeIndex: 100000 entries, 0 to 99999\n",
      "Data columns (total 12 columns):\n",
      " #   Column               Non-Null Count   Dtype \n",
      "---  ------               --------------   ----- \n",
      " 0   Card_Type            100000 non-null  object\n",
      " 1   Mode                 100000 non-null  object\n",
      " 2   Amount               100000 non-null  int32 \n",
      " 3   Transaction          100000 non-null  object\n",
      " 4   Merchant_Group       100000 non-null  object\n",
      " 5   Transaction_Country  100000 non-null  object\n",
      " 6   Shipping_Address     100000 non-null  object\n",
      " 7   Residence            100000 non-null  object\n",
      " 8   Gender               100000 non-null  object\n",
      " 9   Age                  100000 non-null  int64 \n",
      " 10  Bank                 100000 non-null  object\n",
      " 11  Fraud                100000 non-null  int64 \n",
      "dtypes: int32(1), int64(2), object(9)\n",
      "memory usage: 8.8+ MB\n"
     ]
    }
   ],
   "source": [
    "data.info()"
   ]
  },
  {
   "cell_type": "code",
   "execution_count": 121,
   "id": "afb206ae",
   "metadata": {},
   "outputs": [],
   "source": [
    "new_data = data "
   ]
  },
  {
   "cell_type": "code",
   "execution_count": 122,
   "id": "f0fb0295",
   "metadata": {},
   "outputs": [
    {
     "name": "stdout",
     "output_type": "stream",
     "text": [
      "   Card_Type  Mode  Amount  Transaction  Merchant_Group  Transaction_Country  \\\n",
      "0          0     1      17            1               7                    4   \n",
      "1          1     1      28            1               5                    4   \n",
      "2          1     1       8            1               9                    4   \n",
      "3          0     0     186            0               2                    4   \n",
      "4          1     0      86            1               0                    4   \n",
      "\n",
      "   Shipping_Address  Residence  Gender  Age  Bank  Fraud  \n",
      "0                 2          4       0   36     0      0  \n",
      "1                 4          4       1   41     7      0  \n",
      "2                 4          4       1   32     0      0  \n",
      "3                 4          4       0   65     0      0  \n",
      "4                 4          4       0   61     6      0  \n"
     ]
    }
   ],
   "source": [
    "# Import label encoder \n",
    "from sklearn import preprocessing\n",
    "# label_encoder object knows how to understand word labels. \n",
    "label_encoder = preprocessing.LabelEncoder()\n",
    "# Encode labels in column 'Country'. \n",
    "new_data['Card_Type']= label_encoder.fit_transform(new_data['Card_Type'])\n",
    "new_data['Mode']= label_encoder.fit_transform(new_data['Mode'])\n",
    "new_data['Transaction']= label_encoder.fit_transform(new_data['Transaction'])\n",
    "new_data['Merchant_Group']= label_encoder.fit_transform(new_data['Merchant_Group'])\n",
    "new_data['Transaction_Country']= label_encoder.fit_transform(new_data['Transaction_Country'])\n",
    "new_data['Shipping_Address']= label_encoder.fit_transform(new_data['Shipping_Address'])\n",
    "new_data['Residence']= label_encoder.fit_transform(new_data['Residence'])\n",
    "new_data['Gender']= label_encoder.fit_transform(new_data['Gender'])\n",
    "new_data['Bank']= label_encoder.fit_transform(new_data['Bank'])\n",
    "print(new_data.head())"
   ]
  },
  {
   "cell_type": "code",
   "execution_count": 123,
   "id": "8ce6b8fa",
   "metadata": {},
   "outputs": [
    {
     "name": "stdout",
     "output_type": "stream",
     "text": [
      "<class 'pandas.core.frame.DataFrame'>\n",
      "RangeIndex: 100000 entries, 0 to 99999\n",
      "Data columns (total 12 columns):\n",
      " #   Column               Non-Null Count   Dtype\n",
      "---  ------               --------------   -----\n",
      " 0   Card_Type            100000 non-null  int32\n",
      " 1   Mode                 100000 non-null  int32\n",
      " 2   Amount               100000 non-null  int32\n",
      " 3   Transaction          100000 non-null  int32\n",
      " 4   Merchant_Group       100000 non-null  int32\n",
      " 5   Transaction_Country  100000 non-null  int32\n",
      " 6   Shipping_Address     100000 non-null  int32\n",
      " 7   Residence            100000 non-null  int32\n",
      " 8   Gender               100000 non-null  int32\n",
      " 9   Age                  100000 non-null  int64\n",
      " 10  Bank                 100000 non-null  int32\n",
      " 11  Fraud                100000 non-null  int64\n",
      "dtypes: int32(10), int64(2)\n",
      "memory usage: 5.3 MB\n"
     ]
    }
   ],
   "source": [
    "new_data.info()"
   ]
  },
  {
   "cell_type": "markdown",
   "id": "53d7c153",
   "metadata": {},
   "source": [
    "## Exploratory Data Analysis (EDA)"
   ]
  },
  {
   "cell_type": "code",
   "execution_count": 124,
   "id": "58dc8e71",
   "metadata": {},
   "outputs": [
    {
     "data": {
      "text/html": [
       "<div>\n",
       "<style scoped>\n",
       "    .dataframe tbody tr th:only-of-type {\n",
       "        vertical-align: middle;\n",
       "    }\n",
       "\n",
       "    .dataframe tbody tr th {\n",
       "        vertical-align: top;\n",
       "    }\n",
       "\n",
       "    .dataframe thead th {\n",
       "        text-align: right;\n",
       "    }\n",
       "</style>\n",
       "<table border=\"1\" class=\"dataframe\">\n",
       "  <thead>\n",
       "    <tr style=\"text-align: right;\">\n",
       "      <th></th>\n",
       "      <th>Card_Type</th>\n",
       "      <th>Mode</th>\n",
       "      <th>Amount</th>\n",
       "      <th>Transaction</th>\n",
       "      <th>Merchant_Group</th>\n",
       "      <th>Transaction_Country</th>\n",
       "      <th>Shipping_Address</th>\n",
       "      <th>Residence</th>\n",
       "      <th>Gender</th>\n",
       "      <th>Age</th>\n",
       "      <th>Bank</th>\n",
       "      <th>Fraud</th>\n",
       "    </tr>\n",
       "  </thead>\n",
       "  <tbody>\n",
       "    <tr>\n",
       "      <th>count</th>\n",
       "      <td>100000.000000</td>\n",
       "      <td>100000.00000</td>\n",
       "      <td>100000.000000</td>\n",
       "      <td>100000.00000</td>\n",
       "      <td>100000.000000</td>\n",
       "      <td>100000.000000</td>\n",
       "      <td>100000.000000</td>\n",
       "      <td>100000.000000</td>\n",
       "      <td>100000.000000</td>\n",
       "      <td>100000.000000</td>\n",
       "      <td>100000.000000</td>\n",
       "      <td>100000.000000</td>\n",
       "    </tr>\n",
       "    <tr>\n",
       "      <th>mean</th>\n",
       "      <td>0.538120</td>\n",
       "      <td>0.49837</td>\n",
       "      <td>112.566480</td>\n",
       "      <td>0.99968</td>\n",
       "      <td>4.483460</td>\n",
       "      <td>3.283010</td>\n",
       "      <td>3.029080</td>\n",
       "      <td>3.548490</td>\n",
       "      <td>0.508770</td>\n",
       "      <td>53.081630</td>\n",
       "      <td>2.807430</td>\n",
       "      <td>0.071900</td>\n",
       "    </tr>\n",
       "    <tr>\n",
       "      <th>std</th>\n",
       "      <td>0.498547</td>\n",
       "      <td>0.50000</td>\n",
       "      <td>123.428493</td>\n",
       "      <td>0.81559</td>\n",
       "      <td>2.888098</td>\n",
       "      <td>1.277455</td>\n",
       "      <td>1.400441</td>\n",
       "      <td>1.071298</td>\n",
       "      <td>0.499926</td>\n",
       "      <td>18.742452</td>\n",
       "      <td>2.484586</td>\n",
       "      <td>0.258324</td>\n",
       "    </tr>\n",
       "    <tr>\n",
       "      <th>min</th>\n",
       "      <td>0.000000</td>\n",
       "      <td>0.00000</td>\n",
       "      <td>5.000000</td>\n",
       "      <td>0.00000</td>\n",
       "      <td>0.000000</td>\n",
       "      <td>0.000000</td>\n",
       "      <td>0.000000</td>\n",
       "      <td>0.000000</td>\n",
       "      <td>0.000000</td>\n",
       "      <td>21.000000</td>\n",
       "      <td>0.000000</td>\n",
       "      <td>0.000000</td>\n",
       "    </tr>\n",
       "    <tr>\n",
       "      <th>25%</th>\n",
       "      <td>0.000000</td>\n",
       "      <td>0.00000</td>\n",
       "      <td>17.000000</td>\n",
       "      <td>0.00000</td>\n",
       "      <td>2.000000</td>\n",
       "      <td>3.000000</td>\n",
       "      <td>2.000000</td>\n",
       "      <td>4.000000</td>\n",
       "      <td>0.000000</td>\n",
       "      <td>37.000000</td>\n",
       "      <td>0.000000</td>\n",
       "      <td>0.000000</td>\n",
       "    </tr>\n",
       "    <tr>\n",
       "      <th>50%</th>\n",
       "      <td>1.000000</td>\n",
       "      <td>0.00000</td>\n",
       "      <td>30.000000</td>\n",
       "      <td>1.00000</td>\n",
       "      <td>4.000000</td>\n",
       "      <td>4.000000</td>\n",
       "      <td>4.000000</td>\n",
       "      <td>4.000000</td>\n",
       "      <td>1.000000</td>\n",
       "      <td>53.000000</td>\n",
       "      <td>3.000000</td>\n",
       "      <td>0.000000</td>\n",
       "    </tr>\n",
       "    <tr>\n",
       "      <th>75%</th>\n",
       "      <td>1.000000</td>\n",
       "      <td>1.00000</td>\n",
       "      <td>208.000000</td>\n",
       "      <td>2.00000</td>\n",
       "      <td>7.000000</td>\n",
       "      <td>4.000000</td>\n",
       "      <td>4.000000</td>\n",
       "      <td>4.000000</td>\n",
       "      <td>1.000000</td>\n",
       "      <td>69.000000</td>\n",
       "      <td>5.000000</td>\n",
       "      <td>0.000000</td>\n",
       "    </tr>\n",
       "    <tr>\n",
       "      <th>max</th>\n",
       "      <td>1.000000</td>\n",
       "      <td>1.00000</td>\n",
       "      <td>400.000000</td>\n",
       "      <td>2.00000</td>\n",
       "      <td>9.000000</td>\n",
       "      <td>4.000000</td>\n",
       "      <td>4.000000</td>\n",
       "      <td>4.000000</td>\n",
       "      <td>1.000000</td>\n",
       "      <td>85.000000</td>\n",
       "      <td>7.000000</td>\n",
       "      <td>1.000000</td>\n",
       "    </tr>\n",
       "  </tbody>\n",
       "</table>\n",
       "</div>"
      ],
      "text/plain": [
       "           Card_Type          Mode         Amount   Transaction  \\\n",
       "count  100000.000000  100000.00000  100000.000000  100000.00000   \n",
       "mean        0.538120       0.49837     112.566480       0.99968   \n",
       "std         0.498547       0.50000     123.428493       0.81559   \n",
       "min         0.000000       0.00000       5.000000       0.00000   \n",
       "25%         0.000000       0.00000      17.000000       0.00000   \n",
       "50%         1.000000       0.00000      30.000000       1.00000   \n",
       "75%         1.000000       1.00000     208.000000       2.00000   \n",
       "max         1.000000       1.00000     400.000000       2.00000   \n",
       "\n",
       "       Merchant_Group  Transaction_Country  Shipping_Address      Residence  \\\n",
       "count   100000.000000        100000.000000     100000.000000  100000.000000   \n",
       "mean         4.483460             3.283010          3.029080       3.548490   \n",
       "std          2.888098             1.277455          1.400441       1.071298   \n",
       "min          0.000000             0.000000          0.000000       0.000000   \n",
       "25%          2.000000             3.000000          2.000000       4.000000   \n",
       "50%          4.000000             4.000000          4.000000       4.000000   \n",
       "75%          7.000000             4.000000          4.000000       4.000000   \n",
       "max          9.000000             4.000000          4.000000       4.000000   \n",
       "\n",
       "              Gender            Age           Bank          Fraud  \n",
       "count  100000.000000  100000.000000  100000.000000  100000.000000  \n",
       "mean        0.508770      53.081630       2.807430       0.071900  \n",
       "std         0.499926      18.742452       2.484586       0.258324  \n",
       "min         0.000000      21.000000       0.000000       0.000000  \n",
       "25%         0.000000      37.000000       0.000000       0.000000  \n",
       "50%         1.000000      53.000000       3.000000       0.000000  \n",
       "75%         1.000000      69.000000       5.000000       0.000000  \n",
       "max         1.000000      85.000000       7.000000       1.000000  "
      ]
     },
     "execution_count": 124,
     "metadata": {},
     "output_type": "execute_result"
    }
   ],
   "source": [
    "new_data.describe()"
   ]
  },
  {
   "cell_type": "code",
   "execution_count": 125,
   "id": "b524ecd8",
   "metadata": {},
   "outputs": [
    {
     "data": {
      "text/html": [
       "<div>\n",
       "<style scoped>\n",
       "    .dataframe tbody tr th:only-of-type {\n",
       "        vertical-align: middle;\n",
       "    }\n",
       "\n",
       "    .dataframe tbody tr th {\n",
       "        vertical-align: top;\n",
       "    }\n",
       "\n",
       "    .dataframe thead th {\n",
       "        text-align: right;\n",
       "    }\n",
       "</style>\n",
       "<table border=\"1\" class=\"dataframe\">\n",
       "  <thead>\n",
       "    <tr style=\"text-align: right;\">\n",
       "      <th></th>\n",
       "      <th>Card_Type</th>\n",
       "      <th>Mode</th>\n",
       "      <th>Amount</th>\n",
       "      <th>Transaction</th>\n",
       "      <th>Merchant_Group</th>\n",
       "      <th>Transaction_Country</th>\n",
       "      <th>Shipping_Address</th>\n",
       "      <th>Residence</th>\n",
       "      <th>Gender</th>\n",
       "      <th>Age</th>\n",
       "      <th>Bank</th>\n",
       "      <th>Fraud</th>\n",
       "    </tr>\n",
       "  </thead>\n",
       "  <tbody>\n",
       "    <tr>\n",
       "      <th>0</th>\n",
       "      <td>0</td>\n",
       "      <td>1</td>\n",
       "      <td>17</td>\n",
       "      <td>1</td>\n",
       "      <td>7</td>\n",
       "      <td>4</td>\n",
       "      <td>2</td>\n",
       "      <td>4</td>\n",
       "      <td>0</td>\n",
       "      <td>36</td>\n",
       "      <td>0</td>\n",
       "      <td>0</td>\n",
       "    </tr>\n",
       "    <tr>\n",
       "      <th>1</th>\n",
       "      <td>1</td>\n",
       "      <td>1</td>\n",
       "      <td>28</td>\n",
       "      <td>1</td>\n",
       "      <td>5</td>\n",
       "      <td>4</td>\n",
       "      <td>4</td>\n",
       "      <td>4</td>\n",
       "      <td>1</td>\n",
       "      <td>41</td>\n",
       "      <td>7</td>\n",
       "      <td>0</td>\n",
       "    </tr>\n",
       "    <tr>\n",
       "      <th>2</th>\n",
       "      <td>1</td>\n",
       "      <td>1</td>\n",
       "      <td>8</td>\n",
       "      <td>1</td>\n",
       "      <td>9</td>\n",
       "      <td>4</td>\n",
       "      <td>4</td>\n",
       "      <td>4</td>\n",
       "      <td>1</td>\n",
       "      <td>32</td>\n",
       "      <td>0</td>\n",
       "      <td>0</td>\n",
       "    </tr>\n",
       "    <tr>\n",
       "      <th>3</th>\n",
       "      <td>0</td>\n",
       "      <td>0</td>\n",
       "      <td>186</td>\n",
       "      <td>0</td>\n",
       "      <td>2</td>\n",
       "      <td>4</td>\n",
       "      <td>4</td>\n",
       "      <td>4</td>\n",
       "      <td>0</td>\n",
       "      <td>65</td>\n",
       "      <td>0</td>\n",
       "      <td>0</td>\n",
       "    </tr>\n",
       "    <tr>\n",
       "      <th>4</th>\n",
       "      <td>1</td>\n",
       "      <td>0</td>\n",
       "      <td>86</td>\n",
       "      <td>1</td>\n",
       "      <td>0</td>\n",
       "      <td>4</td>\n",
       "      <td>4</td>\n",
       "      <td>4</td>\n",
       "      <td>0</td>\n",
       "      <td>61</td>\n",
       "      <td>6</td>\n",
       "      <td>0</td>\n",
       "    </tr>\n",
       "  </tbody>\n",
       "</table>\n",
       "</div>"
      ],
      "text/plain": [
       "   Card_Type  Mode  Amount  Transaction  Merchant_Group  Transaction_Country  \\\n",
       "0          0     1      17            1               7                    4   \n",
       "1          1     1      28            1               5                    4   \n",
       "2          1     1       8            1               9                    4   \n",
       "3          0     0     186            0               2                    4   \n",
       "4          1     0      86            1               0                    4   \n",
       "\n",
       "   Shipping_Address  Residence  Gender  Age  Bank  Fraud  \n",
       "0                 2          4       0   36     0      0  \n",
       "1                 4          4       1   41     7      0  \n",
       "2                 4          4       1   32     0      0  \n",
       "3                 4          4       0   65     0      0  \n",
       "4                 4          4       0   61     6      0  "
      ]
     },
     "execution_count": 125,
     "metadata": {},
     "output_type": "execute_result"
    }
   ],
   "source": [
    "data.head()"
   ]
  },
  {
   "cell_type": "code",
   "execution_count": 126,
   "id": "53eecbf4",
   "metadata": {},
   "outputs": [
    {
     "data": {
      "image/png": "[encoded data removed]",
      "text/plain": [
       "<Figure size 432x288 with 1 Axes>"
      ]
     },
     "metadata": {
      "needs_background": "light"
     },
     "output_type": "display_data"
    }
   ],
   "source": [
    "data[['Age']].plot(kind='hist',bins=[0,20,40,60,80,100],rwidth=0.8)\n",
    "plt.show()"
   ]
  },
  {
   "cell_type": "code",
   "execution_count": 127,
   "id": "15313e5a",
   "metadata": {},
   "outputs": [
    {
     "data": {
      "text/plain": [
       "Text(0.5, 0, 'Cards Type')"
      ]
     },
     "execution_count": 127,
     "metadata": {},
     "output_type": "execute_result"
    },
    {
     "data": {
      "image/png": "[encoded data removed]",
      "text/plain": [
       "<Figure size 720x360 with 1 Axes>"
      ]
     },
     "metadata": {
      "needs_background": "light"
     },
     "output_type": "display_data"
    }
   ],
   "source": [
    "data.Card_Type.value_counts().nlargest(40).plot(kind='bar', figsize=(10,5))\n",
    "plt.title(\"Type of Cards\")\n",
    "plt.ylabel('Number of Cards')\n",
    "plt.xlabel('Cards Type')"
   ]
  },
  {
   "cell_type": "code",
   "execution_count": 128,
   "id": "155f4f9e",
   "metadata": {},
   "outputs": [
    {
     "data": {
      "image/png": "[encoded data removed]",
      "text/plain": [
       "<Figure size 432x288 with 1 Axes>"
      ]
     },
     "metadata": {
      "needs_background": "light"
     },
     "output_type": "display_data"
    }
   ],
   "source": [
    "data.groupby(['Card_Type','Gender']).size().unstack().plot(kind='bar',stacked=True)\n",
    "plt.show()"
   ]
  },
  {
   "cell_type": "code",
   "execution_count": 129,
   "id": "7b89dd70",
   "metadata": {},
   "outputs": [
    {
     "data": {
      "image/png": "[encoded data removed]",
      "text/plain": [
       "<Figure size 432x288 with 1 Axes>"
      ]
     },
     "metadata": {
      "needs_background": "light"
     },
     "output_type": "display_data"
    }
   ],
   "source": [
    "data.groupby(['Fraud','Gender']).size().unstack().plot(kind='barh',stacked=True)\n",
    "plt.show()"
   ]
  },
  {
   "cell_type": "code",
   "execution_count": 130,
   "id": "a9af0a18",
   "metadata": {},
   "outputs": [
    {
     "data": {
      "image/png": "[encoded data removed]",
      "text/plain": [
       "<Figure size 432x288 with 1 Axes>"
      ]
     },
     "metadata": {
      "needs_background": "light"
     },
     "output_type": "display_data"
    }
   ],
   "source": [
    "data.groupby(['Card_Type','Transaction']).size().unstack().plot(kind='bar',stacked=True)\n",
    "plt.show()"
   ]
  },
  {
   "cell_type": "code",
   "execution_count": 131,
   "id": "9e5f909a",
   "metadata": {},
   "outputs": [
    {
     "data": {
      "image/png": "[encoded data removed]",
      "text/plain": [
       "<Figure size 432x288 with 1 Axes>"
      ]
     },
     "metadata": {
      "needs_background": "light"
     },
     "output_type": "display_data"
    }
   ],
   "source": [
    "data.groupby(['Fraud','Transaction']).size().unstack().plot(kind='barh',stacked=True)\n",
    "plt.show()"
   ]
  },
  {
   "cell_type": "code",
   "execution_count": 132,
   "id": "1ec79f7c",
   "metadata": {},
   "outputs": [
    {
     "data": {
      "image/png": "[encoded data removed]",
      "text/plain": [
       "<Figure size 432x288 with 1 Axes>"
      ]
     },
     "metadata": {
      "needs_background": "light"
     },
     "output_type": "display_data"
    }
   ],
   "source": [
    "data.groupby(['Card_Type','Fraud']).size().unstack().plot(kind='bar',stacked=True)\n",
    "plt.show()"
   ]
  },
  {
   "cell_type": "code",
   "execution_count": 133,
   "id": "82518661",
   "metadata": {},
   "outputs": [
    {
     "data": {
      "image/png": "[encoded data removed]",
      "text/plain": [
       "<Figure size 432x288 with 1 Axes>"
      ]
     },
     "metadata": {
      "needs_background": "light"
     },
     "output_type": "display_data"
    }
   ],
   "source": [
    "data.groupby('Card_Type').sum()['Amount'].plot(kind='bar',stacked=True)\n",
    "plt.xlabel('Type of Card')\n",
    "plt.ylabel('Total Amount')\n",
    "plt.show()"
   ]
  },
  {
   "cell_type": "code",
   "execution_count": 134,
   "id": "2f7bcd3a",
   "metadata": {},
   "outputs": [
    {
     "data": {
      "text/plain": [
       "Text(0.5, 0, 'Bank')"
      ]
     },
     "execution_count": 134,
     "metadata": {},
     "output_type": "execute_result"
    },
    {
     "data": {
      "image/png": "[encoded data removed]",
      "text/plain": [
       "<Figure size 720x360 with 1 Axes>"
      ]
     },
     "metadata": {
      "needs_background": "light"
     },
     "output_type": "display_data"
    }
   ],
   "source": [
    "data.groupby(['Bank','Card_Type']).size().unstack().plot(kind='bar', figsize=(10,5))\n",
    "plt.ylabel('Number of Cards')\n",
    "plt.xlabel('Bank')"
   ]
  },
  {
   "cell_type": "code",
   "execution_count": 135,
   "id": "c17c2ff4",
   "metadata": {},
   "outputs": [
    {
     "data": {
      "text/plain": [
       "<AxesSubplot:ylabel='Bank'>"
      ]
     },
     "execution_count": 135,
     "metadata": {},
     "output_type": "execute_result"
    },
    {
     "data": {
      "image/png": "[encoded data removed]",
      "text/plain": [
       "<Figure size 720x360 with 1 Axes>"
      ]
     },
     "metadata": {
      "needs_background": "light"
     },
     "output_type": "display_data"
    }
   ],
   "source": [
    "data.groupby(['Bank','Fraud']).size().unstack().plot(kind='barh', figsize=(10,5))"
   ]
  },
  {
   "cell_type": "code",
   "execution_count": 136,
   "id": "0db08e5f",
   "metadata": {},
   "outputs": [
    {
     "data": {
      "image/png": "[encoded data removed]",
      "text/plain": [
       "<Figure size 720x360 with 1 Axes>"
      ]
     },
     "metadata": {
      "needs_background": "light"
     },
     "output_type": "display_data"
    }
   ],
   "source": [
    "data.groupby(['Fraud','Transaction_Country']).size().unstack().plot(kind='bar',figsize=(10,5), stacked=True)\n",
    "plt.show()"
   ]
  },
  {
   "cell_type": "markdown",
   "id": "332788df",
   "metadata": {},
   "source": [
    "## Analytical model"
   ]
  },
  {
   "cell_type": "code",
   "execution_count": 137,
   "id": "6f370df0",
   "metadata": {},
   "outputs": [],
   "source": [
    "feature_cols = ['Card_Type', 'Mode', 'Amount', 'Transaction','Merchant_Group','Transaction_Country','Shipping_Address',\n",
    "              'Residence', 'Gender', 'Age', 'Bank']\n",
    "X = new_data[feature_cols] \n",
    "y = new_data.Fraud "
   ]
  },
  {
   "cell_type": "code",
   "execution_count": 138,
   "id": "8fd1a042",
   "metadata": {},
   "outputs": [],
   "source": [
    "from sklearn.tree import DecisionTreeClassifier \n",
    "from sklearn.ensemble import AdaBoostClassifier\n",
    "from sklearn.model_selection import train_test_split \n",
    "from sklearn.linear_model import LogisticRegression\n",
    "from sklearn.metrics import accuracy_score\n",
    "from sklearn. metrics import classification_report\n",
    "from sklearn.metrics import confusion_matrix"
   ]
  },
  {
   "cell_type": "code",
   "execution_count": 139,
   "id": "24a2f4da",
   "metadata": {},
   "outputs": [],
   "source": [
    "X_train, X_test, y_train, y_test = train_test_split(X, y, test_size=0.3, random_state=1) "
   ]
  },
  {
   "cell_type": "code",
   "execution_count": 140,
   "id": "7d839786",
   "metadata": {},
   "outputs": [],
   "source": [
    "clf = DecisionTreeClassifier()\n",
    "clf = clf.fit(X_train,y_train)\n",
    "y_pred = clf.predict(X_test)"
   ]
  },
  {
   "cell_type": "code",
   "execution_count": 141,
   "id": "4c97ba7f",
   "metadata": {},
   "outputs": [
    {
     "name": "stdout",
     "output_type": "stream",
     "text": [
      "Accuracy: 0.9660666666666666\n"
     ]
    }
   ],
   "source": [
    "print(\"Accuracy:\",metrics.accuracy_score(y_test, y_pred))"
   ]
  },
  {
   "cell_type": "code",
   "execution_count": 142,
   "id": "13acc2b0",
   "metadata": {},
   "outputs": [
    {
     "data": {
      "image/png": "[encoded data removed]",
      "text/plain": [
       "<Figure size 432x288 with 2 Axes>"
      ]
     },
     "metadata": {
      "needs_background": "light"
     },
     "output_type": "display_data"
    }
   ],
   "source": [
    "confusion_matrix = confusion_matrix(y_test, y_pred)\n",
    "\n",
    "cm_display = metrics.ConfusionMatrixDisplay(confusion_matrix = confusion_matrix, display_labels = [False, True])\n",
    "\n",
    "cm_display.plot()\n",
    "plt.show()"
   ]
  },
  {
   "cell_type": "code",
   "execution_count": 143,
   "id": "d4e59f71",
   "metadata": {},
   "outputs": [
    {
     "data": {
      "text/html": [
       "<div>\n",
       "<style scoped>\n",
       "    .dataframe tbody tr th:only-of-type {\n",
       "        vertical-align: middle;\n",
       "    }\n",
       "\n",
       "    .dataframe tbody tr th {\n",
       "        vertical-align: top;\n",
       "    }\n",
       "\n",
       "    .dataframe thead th {\n",
       "        text-align: right;\n",
       "    }\n",
       "</style>\n",
       "<table border=\"1\" class=\"dataframe\">\n",
       "  <thead>\n",
       "    <tr style=\"text-align: right;\">\n",
       "      <th></th>\n",
       "      <th>Actual</th>\n",
       "      <th>Predicted</th>\n",
       "    </tr>\n",
       "  </thead>\n",
       "  <tbody>\n",
       "    <tr>\n",
       "      <th>43660</th>\n",
       "      <td>0</td>\n",
       "      <td>0</td>\n",
       "    </tr>\n",
       "    <tr>\n",
       "      <th>87278</th>\n",
       "      <td>0</td>\n",
       "      <td>0</td>\n",
       "    </tr>\n",
       "    <tr>\n",
       "      <th>14317</th>\n",
       "      <td>0</td>\n",
       "      <td>0</td>\n",
       "    </tr>\n",
       "    <tr>\n",
       "      <th>81932</th>\n",
       "      <td>0</td>\n",
       "      <td>0</td>\n",
       "    </tr>\n",
       "    <tr>\n",
       "      <th>95321</th>\n",
       "      <td>0</td>\n",
       "      <td>0</td>\n",
       "    </tr>\n",
       "    <tr>\n",
       "      <th>5405</th>\n",
       "      <td>0</td>\n",
       "      <td>0</td>\n",
       "    </tr>\n",
       "    <tr>\n",
       "      <th>33188</th>\n",
       "      <td>1</td>\n",
       "      <td>0</td>\n",
       "    </tr>\n",
       "    <tr>\n",
       "      <th>63421</th>\n",
       "      <td>1</td>\n",
       "      <td>1</td>\n",
       "    </tr>\n",
       "    <tr>\n",
       "      <th>72897</th>\n",
       "      <td>0</td>\n",
       "      <td>0</td>\n",
       "    </tr>\n",
       "    <tr>\n",
       "      <th>9507</th>\n",
       "      <td>0</td>\n",
       "      <td>0</td>\n",
       "    </tr>\n",
       "  </tbody>\n",
       "</table>\n",
       "</div>"
      ],
      "text/plain": [
       "       Actual  Predicted\n",
       "43660       0          0\n",
       "87278       0          0\n",
       "14317       0          0\n",
       "81932       0          0\n",
       "95321       0          0\n",
       "5405        0          0\n",
       "33188       1          0\n",
       "63421       1          1\n",
       "72897       0          0\n",
       "9507        0          0"
      ]
     },
     "execution_count": 143,
     "metadata": {},
     "output_type": "execute_result"
    }
   ],
   "source": [
    "df = pd.DataFrame({'Actual': y_test, 'Predicted': y_pred.flatten()})\n",
    "df.head(10)"
   ]
  },
  {
   "cell_type": "code",
   "execution_count": 153,
   "id": "a143da22",
   "metadata": {},
   "outputs": [
    {
     "name": "stdout",
     "output_type": "stream",
     "text": [
      "[0 0 0 ... 1 0 0]\n",
      "Actual labels:     43660    0\n",
      "87278    0\n",
      "14317    0\n",
      "81932    0\n",
      "95321    0\n",
      "        ..\n",
      "994      0\n",
      "42287    0\n",
      "4967     1\n",
      "47725    0\n",
      "42348    0\n",
      "Name: Fraud, Length: 30000, dtype: int64\n"
     ]
    }
   ],
   "source": [
    "AdaBoost = AdaBoostClassifier(n_estimators=100, random_state=0)\n",
    "AdaBoost.fit(X_train,y_train)\n",
    "\n",
    "preds = AdaBoost.predict(X_test)\n",
    "print(preds)\n",
    "print('Actual labels:    ' ,y_test)"
   ]
  },
  {
   "cell_type": "code",
   "execution_count": 154,
   "id": "520b32cc",
   "metadata": {},
   "outputs": [
    {
     "name": "stdout",
     "output_type": "stream",
     "text": [
      "Accuracy: 0.9727666666666667\n"
     ]
    }
   ],
   "source": [
    "print(\"Accuracy:\",accuracy_score(y_test, preds))"
   ]
  },
  {
   "cell_type": "code",
   "execution_count": 155,
   "id": "39696c08",
   "metadata": {},
   "outputs": [
    {
     "name": "stdout",
     "output_type": "stream",
     "text": [
      "              precision    recall  f1-score   support\n",
      "\n",
      "           0       0.98      0.99      0.99     27860\n",
      "           1       0.83      0.78      0.80      2140\n",
      "\n",
      "    accuracy                           0.97     30000\n",
      "   macro avg       0.91      0.88      0.89     30000\n",
      "weighted avg       0.97      0.97      0.97     30000\n",
      "\n"
     ]
    }
   ],
   "source": [
    "print(classification_report(y_test, preds))"
   ]
  },
  {
   "cell_type": "code",
   "execution_count": 151,
   "id": "c46bf901",
   "metadata": {},
   "outputs": [
    {
     "data": {
      "text/html": [
       "<div>\n",
       "<style scoped>\n",
       "    .dataframe tbody tr th:only-of-type {\n",
       "        vertical-align: middle;\n",
       "    }\n",
       "\n",
       "    .dataframe tbody tr th {\n",
       "        vertical-align: top;\n",
       "    }\n",
       "\n",
       "    .dataframe thead th {\n",
       "        text-align: right;\n",
       "    }\n",
       "</style>\n",
       "<table border=\"1\" class=\"dataframe\">\n",
       "  <thead>\n",
       "    <tr style=\"text-align: right;\">\n",
       "      <th></th>\n",
       "      <th>Actual</th>\n",
       "      <th>Predicted</th>\n",
       "    </tr>\n",
       "  </thead>\n",
       "  <tbody>\n",
       "    <tr>\n",
       "      <th>43660</th>\n",
       "      <td>0</td>\n",
       "      <td>0</td>\n",
       "    </tr>\n",
       "    <tr>\n",
       "      <th>87278</th>\n",
       "      <td>0</td>\n",
       "      <td>0</td>\n",
       "    </tr>\n",
       "    <tr>\n",
       "      <th>14317</th>\n",
       "      <td>0</td>\n",
       "      <td>0</td>\n",
       "    </tr>\n",
       "    <tr>\n",
       "      <th>81932</th>\n",
       "      <td>0</td>\n",
       "      <td>0</td>\n",
       "    </tr>\n",
       "    <tr>\n",
       "      <th>95321</th>\n",
       "      <td>0</td>\n",
       "      <td>0</td>\n",
       "    </tr>\n",
       "    <tr>\n",
       "      <th>5405</th>\n",
       "      <td>0</td>\n",
       "      <td>0</td>\n",
       "    </tr>\n",
       "    <tr>\n",
       "      <th>33188</th>\n",
       "      <td>1</td>\n",
       "      <td>1</td>\n",
       "    </tr>\n",
       "    <tr>\n",
       "      <th>63421</th>\n",
       "      <td>1</td>\n",
       "      <td>1</td>\n",
       "    </tr>\n",
       "    <tr>\n",
       "      <th>72897</th>\n",
       "      <td>0</td>\n",
       "      <td>0</td>\n",
       "    </tr>\n",
       "    <tr>\n",
       "      <th>9507</th>\n",
       "      <td>0</td>\n",
       "      <td>0</td>\n",
       "    </tr>\n",
       "  </tbody>\n",
       "</table>\n",
       "</div>"
      ],
      "text/plain": [
       "       Actual  Predicted\n",
       "43660       0          0\n",
       "87278       0          0\n",
       "14317       0          0\n",
       "81932       0          0\n",
       "95321       0          0\n",
       "5405        0          0\n",
       "33188       1          1\n",
       "63421       1          1\n",
       "72897       0          0\n",
       "9507        0          0"
      ]
     },
     "execution_count": 151,
     "metadata": {},
     "output_type": "execute_result"
    }
   ],
   "source": [
    "df = pd.DataFrame({'Actual': y_test, 'Predicted': preds.flatten()})\n",
    "df.head(10)"
   ]
  },
  {
   "cell_type": "code",
   "execution_count": 146,
   "id": "e5bce21f",
   "metadata": {},
   "outputs": [
    {
     "name": "stdout",
     "output_type": "stream",
     "text": [
      "LogisticRegression(C=100, solver='liblinear')\n"
     ]
    }
   ],
   "source": [
    "model_lr = LogisticRegression(C=100, solver=\"liblinear\").fit(X_train, y_train)\n",
    "print (model_lr)"
   ]
  },
  {
   "cell_type": "code",
   "execution_count": 147,
   "id": "b00657f4",
   "metadata": {},
   "outputs": [],
   "source": [
    "predictions_lr = model_lr.predict(X_test)"
   ]
  },
  {
   "cell_type": "code",
   "execution_count": 148,
   "id": "5b0012d1",
   "metadata": {},
   "outputs": [
    {
     "name": "stdout",
     "output_type": "stream",
     "text": [
      "Accuracy:  0.9494\n",
      "              precision    recall  f1-score   support\n",
      "\n",
      "           0       0.96      0.99      0.97     27860\n",
      "           1       0.72      0.47      0.57      2140\n",
      "\n",
      "    accuracy                           0.95     30000\n",
      "   macro avg       0.84      0.73      0.77     30000\n",
      "weighted avg       0.94      0.95      0.94     30000\n",
      "\n"
     ]
    }
   ],
   "source": [
    "print('Accuracy: ', accuracy_score(y_test, predictions_lr))\n",
    "print(classification_report(y_test, predictions_lr))"
   ]
  },
  {
   "cell_type": "code",
   "execution_count": 150,
   "id": "57194d56",
   "metadata": {},
   "outputs": [
    {
     "data": {
      "text/html": [
       "<div>\n",
       "<style scoped>\n",
       "    .dataframe tbody tr th:only-of-type {\n",
       "        vertical-align: middle;\n",
       "    }\n",
       "\n",
       "    .dataframe tbody tr th {\n",
       "        vertical-align: top;\n",
       "    }\n",
       "\n",
       "    .dataframe thead th {\n",
       "        text-align: right;\n",
       "    }\n",
       "</style>\n",
       "<table border=\"1\" class=\"dataframe\">\n",
       "  <thead>\n",
       "    <tr style=\"text-align: right;\">\n",
       "      <th></th>\n",
       "      <th>Actual</th>\n",
       "      <th>Predicted</th>\n",
       "    </tr>\n",
       "  </thead>\n",
       "  <tbody>\n",
       "    <tr>\n",
       "      <th>43660</th>\n",
       "      <td>0</td>\n",
       "      <td>0</td>\n",
       "    </tr>\n",
       "    <tr>\n",
       "      <th>87278</th>\n",
       "      <td>0</td>\n",
       "      <td>0</td>\n",
       "    </tr>\n",
       "    <tr>\n",
       "      <th>14317</th>\n",
       "      <td>0</td>\n",
       "      <td>0</td>\n",
       "    </tr>\n",
       "    <tr>\n",
       "      <th>81932</th>\n",
       "      <td>0</td>\n",
       "      <td>0</td>\n",
       "    </tr>\n",
       "    <tr>\n",
       "      <th>95321</th>\n",
       "      <td>0</td>\n",
       "      <td>0</td>\n",
       "    </tr>\n",
       "    <tr>\n",
       "      <th>5405</th>\n",
       "      <td>0</td>\n",
       "      <td>0</td>\n",
       "    </tr>\n",
       "    <tr>\n",
       "      <th>33188</th>\n",
       "      <td>1</td>\n",
       "      <td>1</td>\n",
       "    </tr>\n",
       "    <tr>\n",
       "      <th>63421</th>\n",
       "      <td>1</td>\n",
       "      <td>0</td>\n",
       "    </tr>\n",
       "    <tr>\n",
       "      <th>72897</th>\n",
       "      <td>0</td>\n",
       "      <td>0</td>\n",
       "    </tr>\n",
       "    <tr>\n",
       "      <th>9507</th>\n",
       "      <td>0</td>\n",
       "      <td>0</td>\n",
       "    </tr>\n",
       "  </tbody>\n",
       "</table>\n",
       "</div>"
      ],
      "text/plain": [
       "       Actual  Predicted\n",
       "43660       0          0\n",
       "87278       0          0\n",
       "14317       0          0\n",
       "81932       0          0\n",
       "95321       0          0\n",
       "5405        0          0\n",
       "33188       1          1\n",
       "63421       1          0\n",
       "72897       0          0\n",
       "9507        0          0"
      ]
     },
     "execution_count": 150,
     "metadata": {},
     "output_type": "execute_result"
    }
   ],
   "source": [
    "df = pd.DataFrame({'Actual': y_test, 'Predicted': predictions_lr.flatten()})\n",
    "df.head(10)"
   ]
  },
  {
   "cell_type": "code",
   "execution_count": null,
   "id": "6097cfc2",
   "metadata": {},
   "outputs": [],
   "source": []
  }
 ],
 "metadata": {
  "kernelspec": {
   "display_name": "Python 3",
   "language": "python",
   "name": "python3"
  },
  "language_info": {
   "codemirror_mode": {
    "name": "ipython",
    "version": 3
   },
   "file_extension": ".py",
   "mimetype": "text/x-python",
   "name": "python",
   "nbconvert_exporter": "python",
   "pygments_lexer": "ipython3",
   "version": "3.8.8"
  }
 },
 "nbformat": 4,
 "nbformat_minor": 5
}
